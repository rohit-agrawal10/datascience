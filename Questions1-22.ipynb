{
 "cells": [
  {
   "cell_type": "code",
   "execution_count": 17,
   "metadata": {},
   "outputs": [],
   "source": [
    "import numpy as np\n",
    "import pandas as pd\n",
    "import matplotlib\n",
    "from matplotlib import pyplot as plt\n",
    "import seaborn as sns\n",
    "\n",
    "matplotlib.rc(\"figure\", figsize=(8,6))\n",
    "matplotlib.rc(\"axes\", labelsize=16, titlesize=16)\n",
    "matplotlib.rc(\"xtick\", labelsize=14)\n",
    "matplotlib.rc(\"ytick\", labelsize=14)\n",
    "matplotlib.rc(\"legend\", fontsize=14)\n",
    "matplotlib.rc(\"font\", size=14)\n",
    "\n",
    "df1 = pd.read_excel('./DDS9_Data_Extract_with_labels.xlsx')\n",
    "df2 = pd.read_excel('./DDS10_Data_Extract_with_labels.xlsx')\n",
    "df3 = pd.read_excel('./DDS11_Data_Extract_with_labels.xlsx')"
   ]
  },
  {
   "cell_type": "code",
   "execution_count": 18,
   "metadata": {},
   "outputs": [],
   "source": [
    "df1.fillna(0, inplace=True)\n",
    "df2.fillna(0, inplace=True)\n",
    "df3.fillna(0, inplace=True)"
   ]
  },
  {
   "cell_type": "code",
   "execution_count": 19,
   "metadata": {},
   "outputs": [],
   "source": [
    "Demographic = ['record - Record number', 'Age', 'Age Range', 'HasChildren', 'Children 10to13', \n",
    "               'Children 14to18', 'Children 19to25', 'Children 26Up', 'Children 5to9', \n",
    "               'Children Unknown', 'Children under 4', 'Employment Status', 'Ethnicity', 'Gender',\n",
    "               'Region', 'State']\n",
    "\n",
    "FrequentApps = ['FrequentApp-Banking', 'FrequentApp-Books', 'FrequentApp-Browser', \n",
    "                'FrequentApp-Business', 'FrequentApp-Dating', 'FrequentApp-Education', \n",
    "                'FrequentApp-Food', 'FrequentApp-Games', 'FrequentApp-Health', \n",
    "                'FrequentApp-Hobbies', 'FrequentApp-Language', 'FrequentApp-Location', \n",
    "                'FrequentApp-Magazines', 'FrequentApp-Messaging', 'FrequentApp-Movie', \n",
    "                'FrequentApp-Music', 'FrequentApp-Navigation', 'FrequentApp-News', \n",
    "                'FrequentApp-Newspaper', 'FrequentApp-None', 'FrequentApp-Photo', \n",
    "                'FrequentApp-Productivity', 'FrequentApp-QRReader', 'FrequentApp-Reservations', \n",
    "                'FrequentApp-Retail', 'FrequentApp-Reviews', 'FrequentApp-SocialMedia', \n",
    "                'FrequentApp-Sports', 'FrequentApp-Tickets', 'FrequentApp-Transport', \n",
    "                'FrequentApp-Travel', 'FrequentApp-Unknown', 'FrequentApp-Utilities', \n",
    "                'FrequentApp-VOIP', 'FrequentApp-VideoStreaming', 'FrequentApp-Weather']\n",
    "\n",
    "HasItems = ['Has3dPrinter', 'HasBasicPhone', 'HasBluRay', 'HasDVR', 'HasDesktop', \n",
    "           'HasDrone', 'HasEReader', 'HasFitnessBand', 'HasFlatPanelTelevision', 'HasGamingConsole', \n",
    "           'HasLaptop', 'HasLaptopHybrid', 'HasLargeSmartphone', 'HasLargeTablet', 'HasNoDevices', \n",
    "           'HasOverAirDigitalTV', 'HasPortableGamingConsole', 'HasPortableStreaming', 'HasSmallSmartphone', \n",
    "           'HasSmallTablet', 'HasSmartGlasses', 'HasSmartPhone', 'HasSmartWatch', 'HasStreamingBox', \n",
    "           'HasTablet', 'HasThumbdrive', 'HasUnknownDevices', 'HasVRHeadSet', 'HasWirelessRouter']\n",
    "\n",
    "PurchaseItems = ['Purchase3DPrinter', 'PurchaseBasicPhone', 'PurchaseBluRay', 'PurchaseDVR', \n",
    "                 'PurchaseDesktop', 'PurchaseDrone', 'PurchaseEReader', 'PurchaseFitnessBand', \n",
    "                 'PurchaseFlatPanelTelevision', 'PurchaseGamingConsole', 'PurchaseLaptop', 'PurchaseLaptopHybrid', \n",
    "                 'PurchaseLargeSmartphone', 'PurchaseLargeTablet', 'PurchaseNoDevices', 'PurchaseNone', \n",
    "                 'PurchaseOverAirDigitalTV', 'PurchasePortableGamingConsole', 'PurchaseSmallSmartphone', 'PurchaseSmallTablet', \n",
    "                 'PurchaseSmartGlasses', 'PurchaseSmartPhone', 'PurchaseSmartWatch', 'PurchaseStreamingBox', \n",
    "                 'PurchaseTablet', 'PurchaseThumbdrive', 'PurchaseUnknown', 'PurchaseUnkown', \n",
    "                 'PurchaseVRHeadset', 'PurchaseWirelessRouter']\n",
    "\n",
    "valueItems = ['Value3DPrinter', 'ValueBasicPhone', 'ValueBlueRay', 'ValueDVR', 'ValueDesktop', \n",
    "              'ValueDrone', 'ValueEReader', 'ValueFitnessBand', 'ValueFlatPanelTelevision', 'ValueGamingConsole', \n",
    "              'ValueLaptop', 'ValueLaptopHybrid', 'ValueLargeSmartphone', 'ValueLargeTablet', 'ValueNetworkRouter', \n",
    "              'ValueOverAirTV', 'ValuePlaceHolder', 'ValuePlaceholder', 'ValuePortableGamingConsole', 'ValueSmallSmartphone', \n",
    "              'ValueSmallTablet', 'ValueSmartGlasses', 'ValueSmartPhone', 'ValueSmartWatch', 'ValueStreamingBox', \n",
    "              'ValueTablet', 'ValueThumbDrive', 'ValueVRHeadset']\n",
    "\n",
    "TimeWatching = ['TimeWatchingMoviesPC', 'TimeWatchingMoviesSmartphone', 'TimeWatchingMoviesTV', 'TimeWatchingMoviesTablet',\n",
    "                'TimeWatchingSportsPC', 'TimeWatchingSportsSmartphone', 'TimeWatchingSportsTV', 'TimeWatchingSportsTablet', \n",
    "                'TimeWatchingTvPC', 'TimeWatchingTvSmartphone', 'TimeWatchingTvTV', 'TimeWatchingTvTablet']\n",
    "\n"
   ]
  },
  {
   "cell_type": "raw",
   "metadata": {},
   "source": [
    "#Things to correlate: \n",
    "#what items people own, based on region, income, gender, ethnicity, age range, employment status, and having children\n",
    "#what items do people want to own correlated with what they do own (heatmap)\n",
    "#what items do people value region, income, gender, ethnicity, age range, employment status, and having children\n",
    "#what items do people value correlated with what they already own\n",
    "#for those who HAVE a device, how much time do they spend watching content on it?\n",
    "#do people value a smartphone, a tv, a tablet, or a pc based on what they're currently watching content on?\n"
   ]
  },
  {
   "cell_type": "code",
   "execution_count": 20,
   "metadata": {},
   "outputs": [],
   "source": []
  },
  {
   "cell_type": "code",
   "execution_count": null,
   "metadata": {},
   "outputs": [],
   "source": []
  }
 ],
 "metadata": {
  "kernelspec": {
   "display_name": "Python 3",
   "language": "python",
   "name": "python3"
  },
  "language_info": {
   "codemirror_mode": {
    "name": "ipython",
    "version": 3
   },
   "file_extension": ".py",
   "mimetype": "text/x-python",
   "name": "python",
   "nbconvert_exporter": "python",
   "pygments_lexer": "ipython3",
   "version": "3.6.3"
  }
 },
 "nbformat": 4,
 "nbformat_minor": 2
}
