{
 "cells": [
  {
   "cell_type": "code",
   "execution_count": 17,
   "metadata": {},
   "outputs": [],
   "source": [
    "import numpy as np\n",
    "import pandas as pd\n",
    "import matplotlib\n",
    "from matplotlib import pyplot as plt\n",
    "import seaborn as sns\n",
    "\n",
    "matplotlib.rc(\"figure\", figsize=(8,6))\n",
    "matplotlib.rc(\"axes\", labelsize=16, titlesize=16)\n",
    "matplotlib.rc(\"xtick\", labelsize=14)\n",
    "matplotlib.rc(\"ytick\", labelsize=14)\n",
    "matplotlib.rc(\"legend\", fontsize=14)\n",
    "matplotlib.rc(\"font\", size=14)\n",
    "\n",
    "df1 = pd.read_excel('./DDS9_Data_Extract_with_labels.xlsx')\n",
    "df2 = pd.read_excel('./DDS10_Data_Extract_with_labels.xlsx')\n",
    "df3 = pd.read_excel('./DDS11_Data_Extract_with_labels.xlsx')"
   ]
  },
  {
   "cell_type": "code",
   "execution_count": 18,
   "metadata": {},
   "outputs": [],
   "source": [
    "df1.fillna(0, inplace=True)\n",
    "df2.fillna(0, inplace=True)\n",
    "df3.fillna(0, inplace=True)"
   ]
  },
  {
   "cell_type": "code",
   "execution_count": 19,
   "metadata": {},
   "outputs": [],
   "source": [
    "YesNoChoices = ['HasChildren', 'Children under 4', 'Children 5to9', 'Children 10to13', 'Children 14to18', 'Children 19to25', 'Children 26Up', 'Children Unknown',\n",
    "                'HasFlatPanelTelevision', 'HasDVR', 'HasStreamingBox', 'HasThumbdrive', 'HasBluRay', 'HasGamingConsole', 'HasPortableGamingConsole', 'HasWirelessRouter',\n",
    "                'HasDesktop', 'HasLaptop', 'HasLaptopHybrid', 'HasLargeTablet', 'HasSmallTablet', 'HasEReader', 'HasSmallSmartphone', 'HasLargeSmartphone', 'HasBasicPhone',\n",
    "                'HasSmartWatch', 'HasFitnessBand', 'HasSmartGlasses', 'Has3dPrinter', 'HasNoDevices', 'HasUnknownDevices', 'PurchaseFlatPanelTelevision', 'PurchaseDVR',\n",
    "                'PurchaseStreamingBox', 'PurchaseThumbdrive', 'PurchaseBluRay', 'PurchaseGamingConsole', 'PurchasePortableGamingConsole', 'PurchaseWirelessRouter',\n",
    "                'PurchaseDesktop', 'PurchaseLaptop', 'PurchaseLaptopHybrid', 'PurchaseLargeTablet', 'PurchaseSmallTablet', 'PurchaseEReader',\n",
    "                'PurchaseSmallSmartphone', 'PurchaseLargeSmartphone', 'PurchaseBasicPhone', 'PurchaseSmartWatch', 'PurchaseFitnessBand', 'PurchaseSmartGlasses',\n",
    "                'Purchase3dPrinter', 'PurchaseNoDevices', 'PurchaseUnknownDevices', 'FrequentApp-Photo', 'FrequentApp-Banking', 'FrequentApp-Health', 'FrequentApp-Food',\n",
    "                'FrequentApp-Retail', 'FrequentApp-Navigation', 'FrequentApp-SocialMedia', 'FrequentApp-Books', 'FrequentApp-Music', 'FrequentApp-VideoStreaming',\n",
    "                'FrequentApp-Reviews', 'FrequentApp-News', 'FrequentApp-Newspaper', 'FrequentApp-Magazines', 'FrequentApp-Utilities', 'FrequentApp-QRReader',\n",
    "                'FrequentApp-Travel', 'FrequentApp-Transport', 'FrequentApp-Location', 'FrequentApp-Language', 'FrequentApp-Movie', 'FrequentApp-Business',\n",
    "                'FrequentApp-Games', 'FrequentApp-Productivity', 'FrequentApp-Sports', 'FrequentApp-Weather', 'FrequentApp-Browser', 'FrequentApp-VOIP', 'FrequentApp-None',\n",
    "                'FrequentApp-Unknown']"
   ]
  },
  {
   "cell_type": "code",
   "execution_count": 20,
   "metadata": {},
   "outputs": [],
   "source": [
    "for i in YesNoChoices:\n",
    "    if i in df1.columns:\n",
    "        df1[i].replace(('Yes', 'No'), (1, 0), inplace=True)\n",
    "    if i in df2.columns:\n",
    "        df2[i].replace(('Yes', 'No'), (1, 0), inplace=True)\n",
    "    if i in df3.columns:\n",
    "        df3[i].replace(('Yes', 'No'), (1, 0), inplace=True)"
   ]
  },
  {
   "cell_type": "code",
   "execution_count": null,
   "metadata": {},
   "outputs": [],
   "source": []
  }
 ],
 "metadata": {
  "kernelspec": {
   "display_name": "Python 3",
   "language": "python",
   "name": "python3"
  },
  "language_info": {
   "codemirror_mode": {
    "name": "ipython",
    "version": 3
   },
   "file_extension": ".py",
   "mimetype": "text/x-python",
   "name": "python",
   "nbconvert_exporter": "python",
   "pygments_lexer": "ipython3",
   "version": "3.6.3"
  }
 },
 "nbformat": 4,
 "nbformat_minor": 2
}
